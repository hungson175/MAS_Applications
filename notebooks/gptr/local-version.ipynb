{
 "cells": [
  {
   "cell_type": "code",
   "id": "initial_id",
   "metadata": {
    "collapsed": true,
    "ExecuteTime": {
     "end_time": "2024-09-13T04:12:05.299656Z",
     "start_time": "2024-09-13T04:12:04.716783Z"
    }
   },
   "source": [
    "from dotenv import load_dotenv\n",
    "import os\n",
    "\n",
    "load_dotenv()\n",
    "print(os.getenv(\"TAVILY_API_KEY\"))\n",
    "from gpt_researcher import GPTResearcher\n",
    "import asyncio"
   ],
   "outputs": [
    {
     "name": "stdout",
     "output_type": "stream",
     "text": [
      "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\n"
     ]
    }
   ],
   "execution_count": 3
  },
  {
   "metadata": {
    "ExecuteTime": {
     "end_time": "2024-09-13T04:13:41.431323Z",
     "start_time": "2024-09-13T04:13:41.429146Z"
    }
   },
   "cell_type": "code",
   "source": [
    "async def get_report(query: str, report_type: str) -> str:\n",
    "    researcher = GPTResearcher(query, report_type)\n",
    "    research_result = await researcher.conduct_research()\n",
    "    report = await  researcher.write_report()\n",
    "    return report\n"
   ],
   "id": "8d827bab081c6da2",
   "outputs": [],
   "execution_count": 4
  },
  {
   "metadata": {
    "ExecuteTime": {
     "end_time": "2024-09-13T04:23:31.650066Z",
     "start_time": "2024-09-13T04:23:31.647982Z"
    }
   },
   "cell_type": "code",
   "source": [
    "query = \"Best AI tools/IDE for developers\"\n",
    "report_type = \"research_report\"\n",
    "\n",
    "report = get_report(query, report_type)\n",
    "print(report)\n"
   ],
   "id": "9c852c0f598fb380",
   "outputs": [
    {
     "name": "stdout",
     "output_type": "stream",
     "text": [
      "<coroutine object get_report at 0x1178e1a80>\n"
     ]
    }
   ],
   "execution_count": 10
  },
  {
   "metadata": {
    "ExecuteTime": {
     "end_time": "2024-09-13T04:45:20.608200Z",
     "start_time": "2024-09-13T04:45:17.401122Z"
    }
   },
   "cell_type": "code",
   "source": [
    "from langchain_core.prompts import ChatPromptTemplate\n",
    "from langchain_openai import ChatOpenAI\n",
    "\n",
    "llm = ChatOpenAI()\n",
    "prompt_text = \"What is the best AI tool for developers?\"\n",
    "prompt_template = ChatPromptTemplate.from_messages([\n",
    "    (\"human\", \"{input}\"),\n",
    "])\n",
    "\n",
    "chain = prompt_template | llm\n",
    "response = chain.invoke({\"input\": prompt_text})\n"
   ],
   "id": "a45f08ad8558d124",
   "outputs": [],
   "execution_count": 11
  },
  {
   "metadata": {
    "ExecuteTime": {
     "end_time": "2024-09-13T04:45:44.108343Z",
     "start_time": "2024-09-13T04:45:44.106026Z"
    }
   },
   "cell_type": "code",
   "source": "print(response.content)",
   "id": "2a3190c9c9a0ef75",
   "outputs": [
    {
     "name": "stdout",
     "output_type": "stream",
     "text": [
      "There are many AI tools available for developers, and the best one depends on the specific needs and preferences of the developer. Some popular AI tools for developers include:\n",
      "\n",
      "1. TensorFlow: An open-source machine learning framework developed by Google that is widely used for building deep learning models.\n",
      "\n",
      "2. PyTorch: Another popular open-source machine learning library developed by Facebook that is known for its flexibility and ease of use.\n",
      "\n",
      "3. scikit-learn: A simple and efficient tool for data mining and data analysis that is built on top of NumPy, SciPy, and matplotlib.\n",
      "\n",
      "4. IBM Watson: A suite of AI tools and services offered by IBM that can be used for natural language processing, computer vision, and more.\n",
      "\n",
      "5. Microsoft Cognitive Services: A collection of AI tools and APIs offered by Microsoft that can be used to add AI capabilities to applications.\n",
      "\n",
      "Ultimately, the best AI tool for developers will depend on their specific use case and requirements. It is recommended to explore different tools and see which one best fits your needs.\n"
     ]
    }
   ],
   "execution_count": 13
  },
  {
   "metadata": {},
   "cell_type": "code",
   "outputs": [],
   "execution_count": null,
   "source": "",
   "id": "e9b31a56b9c26b4b"
  }
 ],
 "metadata": {
  "kernelspec": {
   "display_name": "Python 3",
   "language": "python",
   "name": "python3"
  },
  "language_info": {
   "codemirror_mode": {
    "name": "ipython",
    "version": 2
   },
   "file_extension": ".py",
   "mimetype": "text/x-python",
   "name": "python",
   "nbconvert_exporter": "python",
   "pygments_lexer": "ipython2",
   "version": "2.7.6"
  }
 },
 "nbformat": 4,
 "nbformat_minor": 5
}
