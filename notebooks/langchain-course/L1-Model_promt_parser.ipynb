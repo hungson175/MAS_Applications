{
 "cells": [
  {
   "cell_type": "code",
   "id": "initial_id",
   "metadata": {
    "collapsed": true,
    "ExecuteTime": {
     "end_time": "2024-07-07T12:24:48.142997Z",
     "start_time": "2024-07-07T12:24:48.114792Z"
    }
   },
   "source": [
    "from dotenv import load_dotenv\n",
    "import datetime\n",
    "from langchain_openai import ChatOpenAI\n",
    "# Get the current date\n",
    "current_date = datetime.datetime.now().date()\n",
    "load_dotenv()\n",
    "# Define the date after which the model should be set to \"gpt-3.5-turbo\"\n",
    "target_date = datetime.date(2024, 6, 12)\n",
    "\n",
    "# Set the model variable based on the current date\n",
    "if current_date > target_date:\n",
    "    llm_model = \"gpt-3.5-turbo\"\n",
    "else:\n",
    "    llm_model = \"gpt-3.5-turbo-0301\"\n",
    "chat = ChatOpenAI(temperature=0.0, model=llm_model)\n",
    "chat"
   ],
   "outputs": [
    {
     "data": {
      "text/plain": [
       "ChatOpenAI(client=<openai.resources.chat.completions.Completions object at 0x1092d3d40>, async_client=<openai.resources.chat.completions.AsyncCompletions object at 0x10914f230>, temperature=0.0, openai_api_key=SecretStr('**********'), openai_proxy='')"
      ]
     },
     "execution_count": 4,
     "metadata": {},
     "output_type": "execute_result"
    }
   ],
   "execution_count": 4
  },
  {
   "metadata": {
    "ExecuteTime": {
     "end_time": "2024-07-07T12:28:38.031961Z",
     "start_time": "2024-07-07T12:28:38.029546Z"
    }
   },
   "cell_type": "code",
   "source": [
    "template_string = \"\"\"Translate the text \\\n",
    "that is delimited by triple backticks \\\n",
    "into a style that is {style}. \\\n",
    "text: ```{text}```\n",
    "\"\"\"\n",
    "from langchain.prompts import ChatPromptTemplate\n",
    "# Create a ChatPromptTemplate object\n",
    "template = ChatPromptTemplate.from_template(template_string)"
   ],
   "id": "df044a427d209c5b",
   "outputs": [],
   "execution_count": 6
  },
  {
   "metadata": {
    "ExecuteTime": {
     "end_time": "2024-07-07T12:29:32.043204Z",
     "start_time": "2024-07-07T12:29:32.040363Z"
    }
   },
   "cell_type": "code",
   "source": "template.messages[0]",
   "id": "db9a3bf893e4eb37",
   "outputs": [
    {
     "data": {
      "text/plain": [
       "HumanMessagePromptTemplate(prompt=PromptTemplate(input_variables=['style', 'text'], template='Translate the text that is delimited by triple backticks into a style that is {style}. text: ```{text}```\\n'))"
      ]
     },
     "execution_count": 8,
     "metadata": {},
     "output_type": "execute_result"
    }
   ],
   "execution_count": 8
  },
  {
   "metadata": {},
   "cell_type": "markdown",
   "source": "",
   "id": "bc3f82e694c3ef43"
  },
  {
   "metadata": {
    "ExecuteTime": {
     "end_time": "2024-07-07T12:30:18.474874Z",
     "start_time": "2024-07-07T12:30:18.472132Z"
    }
   },
   "cell_type": "code",
   "source": [
    "customer_style = \"\"\"American English \\\n",
    "in a calm and respectful tone\n",
    "\"\"\"\n",
    "customer_email = \"\"\"\n",
    "Arrr, I be fuming that me blender lid \\\n",
    "flew off and splattered me kitchen walls \\\n",
    "with smoothie! And to make matters worse, \\\n",
    "the warranty don't cover the cost of \\\n",
    "cleaning up me kitchen. I need yer help \\\n",
    "right now, matey!\n",
    "\"\"\""
   ],
   "id": "72c7dbbb1046f0b",
   "outputs": [],
   "execution_count": 9
  },
  {
   "metadata": {
    "ExecuteTime": {
     "end_time": "2024-07-07T12:30:59.251909Z",
     "start_time": "2024-07-07T12:30:59.249444Z"
    }
   },
   "cell_type": "code",
   "source": [
    "customer_message = template.format_messages(\n",
    "    style=customer_style,\n",
    "    text=customer_email\n",
    ")\n",
    "customer_message"
   ],
   "id": "b0fc9c2909965ef5",
   "outputs": [
    {
     "data": {
      "text/plain": [
       "[HumanMessage(content=\"Translate the text that is delimited by triple backticks into a style that is American English in a calm and respectful tone\\n. text: ```\\nArrr, I be fuming that me blender lid flew off and splattered me kitchen walls with smoothie! And to make matters worse, the warranty don't cover the cost of cleaning up me kitchen. I need yer help right now, matey!\\n```\\n\")]"
      ]
     },
     "execution_count": 10,
     "metadata": {},
     "output_type": "execute_result"
    }
   ],
   "execution_count": 10
  },
  {
   "metadata": {
    "ExecuteTime": {
     "end_time": "2024-07-07T12:32:23.239703Z",
     "start_time": "2024-07-07T12:32:22.100522Z"
    }
   },
   "cell_type": "code",
   "source": [
    "customer_response = chat.invoke(customer_message)\n",
    "customer_response"
   ],
   "id": "53c97bf4f7d50992",
   "outputs": [
    {
     "data": {
      "text/plain": [
       "AIMessage(content=\"I'm really frustrated that my blender lid flew off and splattered my kitchen walls with smoothie! And to make matters worse, the warranty doesn't cover the cost of cleaning up my kitchen. I could really use your help right now, friend.\", response_metadata={'token_usage': {'completion_tokens': 50, 'prompt_tokens': 89, 'total_tokens': 139}, 'model_name': 'gpt-3.5-turbo-0125', 'system_fingerprint': None, 'finish_reason': 'stop', 'logprobs': None}, id='run-a529860e-0b03-47be-b4e3-18d9283d1c44-0', usage_metadata={'input_tokens': 89, 'output_tokens': 50, 'total_tokens': 139})"
      ]
     },
     "execution_count": 12,
     "metadata": {},
     "output_type": "execute_result"
    }
   ],
   "execution_count": 12
  },
  {
   "metadata": {
    "ExecuteTime": {
     "end_time": "2024-07-07T12:34:25.343598Z",
     "start_time": "2024-07-07T12:34:24.060506Z"
    }
   },
   "cell_type": "code",
   "source": [
    "style_pirate = \"\"\"\\\n",
    "a polite tone \\\n",
    "that speaks in English Pirate\\\n",
    "\"\"\"\n",
    "response_pirate = chat.invoke(template.format_messages(\n",
    "    style=style_pirate,\n",
    "    text=customer_email\n",
    "))\n",
    "response_pirate.content"
   ],
   "id": "9ca7ae279f9c5513",
   "outputs": [
    {
     "data": {
      "text/plain": [
       "\"Ahoy, me hearties! I be quite vexed that me blender lid flew off and splattered me kitchen walls with smoothie! And to add insult to injury, the warranty don't be coverin' the cost of cleanin' up me kitchen. I be needin' yer help straightaway, me hearty!\""
      ]
     },
     "execution_count": 15,
     "metadata": {},
     "output_type": "execute_result"
    }
   ],
   "execution_count": 15
  },
  {
   "metadata": {
    "ExecuteTime": {
     "end_time": "2024-07-07T12:36:54.840788Z",
     "start_time": "2024-07-07T12:36:54.837563Z"
    }
   },
   "cell_type": "code",
   "source": [
    "{\n",
    "  \"gift\": False,\n",
    "  \"delivery_days\": 5,\n",
    "  \"price_value\": \"pretty affordable!\"\n",
    "}"
   ],
   "id": "4e997bf6ce6f3ef9",
   "outputs": [
    {
     "data": {
      "text/plain": [
       "{'gift': False, 'delivery_days': 5, 'price_value': 'pretty affordable!'}"
      ]
     },
     "execution_count": 16,
     "metadata": {},
     "output_type": "execute_result"
    }
   ],
   "execution_count": 16
  },
  {
   "metadata": {
    "ExecuteTime": {
     "end_time": "2024-07-07T12:49:58.628201Z",
     "start_time": "2024-07-07T12:49:58.625720Z"
    }
   },
   "cell_type": "code",
   "source": [
    "customer_review = \"\"\"\\\n",
    "This leaf blower is pretty amazing.  It has four settings:\\\n",
    "candle blower, gentle breeze, windy city, and tornado. \\\n",
    "It arrived in two days, just in time for my wife's \\\n",
    "anniversary present. \\\n",
    "I think my wife liked it so much she was speechless. \\\n",
    "So far I've been the only one using it, and I've been \\\n",
    "using it every other morning to clear the leaves on our lawn. \\\n",
    "It's slightly more expensive than the other leaf blowers \\\n",
    "out there, but I think it's worth it for the extra features.\n",
    "\"\"\"\n",
    "\n",
    "review_template = \"\"\"\\\n",
    "For the following text, extract the following information:\n",
    "\n",
    "gift: Was the item purchased as a gift for someone else? \\\n",
    "Answer True if yes, False if not or unknown.\n",
    "\n",
    "delivery_days: How many days did it take for the product \\\n",
    "to arrive? If this information is not found, output -1.\n",
    "\n",
    "price_value: Extract any sentences about the value or price,\\\n",
    "and output them as a comma separated Python list.\n",
    "\n",
    "Format the output as JSON with the following keys:\n",
    "gift\n",
    "delivery_days\n",
    "price_value\n",
    "\n",
    "text: {text}\n",
    "\"\"\"\n"
   ],
   "id": "9550f311d1d013a4",
   "outputs": [],
   "execution_count": 17
  },
  {
   "metadata": {
    "ExecuteTime": {
     "end_time": "2024-07-07T12:51:46.568807Z",
     "start_time": "2024-07-07T12:51:46.564017Z"
    }
   },
   "cell_type": "code",
   "source": [
    "prompt_template = ChatPromptTemplate.from_template(review_template)\n",
    "prompt_template"
   ],
   "id": "552a42190e59037d",
   "outputs": [
    {
     "data": {
      "text/plain": [
       "ChatPromptTemplate(input_variables=['text'], messages=[HumanMessagePromptTemplate(prompt=PromptTemplate(input_variables=['text'], template='For the following text, extract the following information:\\n\\ngift: Was the item purchased as a gift for someone else? Answer True if yes, False if not or unknown.\\n\\ndelivery_days: How many days did it take for the product to arrive? If this information is not found, output -1.\\n\\nprice_value: Extract any sentences about the value or price,and output them as a comma separated Python list.\\n\\nFormat the output as JSON with the following keys:\\ngift\\ndelivery_days\\nprice_value\\n\\ntext: {text}\\n'))])"
      ]
     },
     "execution_count": 20,
     "metadata": {},
     "output_type": "execute_result"
    }
   ],
   "execution_count": 20
  },
  {
   "metadata": {
    "ExecuteTime": {
     "end_time": "2024-07-07T12:53:06.883653Z",
     "start_time": "2024-07-07T12:53:05.880190Z"
    }
   },
   "cell_type": "code",
   "source": [
    "messages = prompt_template.format_messages(text=customer_review)\n",
    "response = chat.invoke(messages)\n",
    "response"
   ],
   "id": "f9d3597cc384581d",
   "outputs": [
    {
     "data": {
      "text/plain": [
       "AIMessage(content='{\\n  \"gift\": true,\\n  \"delivery_days\": 2,\\n  \"price_value\": \"It\\'s slightly more expensive than the other leaf blowers out there\"\\n}', response_metadata={'token_usage': {'completion_tokens': 36, 'prompt_tokens': 218, 'total_tokens': 254}, 'model_name': 'gpt-3.5-turbo-0125', 'system_fingerprint': None, 'finish_reason': 'stop', 'logprobs': None}, id='run-ad4d1b7a-e142-4cc8-9225-589010e7ff87-0', usage_metadata={'input_tokens': 218, 'output_tokens': 36, 'total_tokens': 254})"
      ]
     },
     "execution_count": 21,
     "metadata": {},
     "output_type": "execute_result"
    }
   ],
   "execution_count": 21
  },
  {
   "metadata": {
    "ExecuteTime": {
     "end_time": "2024-07-07T12:53:37.731126Z",
     "start_time": "2024-07-07T12:53:37.727712Z"
    }
   },
   "cell_type": "code",
   "source": "print(response.content)",
   "id": "a1154ead5bbb2380",
   "outputs": [
    {
     "name": "stdout",
     "output_type": "stream",
     "text": [
      "{\n",
      "  \"gift\": true,\n",
      "  \"delivery_days\": 2,\n",
      "  \"price_value\": \"It's slightly more expensive than the other leaf blowers out there\"\n",
      "}\n"
     ]
    }
   ],
   "execution_count": 23
  },
  {
   "metadata": {
    "ExecuteTime": {
     "end_time": "2024-07-07T12:53:55.133369Z",
     "start_time": "2024-07-07T12:53:55.130641Z"
    }
   },
   "cell_type": "code",
   "source": "type(response.content)",
   "id": "98f881aee2020e40",
   "outputs": [
    {
     "data": {
      "text/plain": [
       "str"
      ]
     },
     "execution_count": 24,
     "metadata": {},
     "output_type": "execute_result"
    }
   ],
   "execution_count": 24
  },
  {
   "metadata": {
    "ExecuteTime": {
     "end_time": "2024-07-07T12:54:14.557714Z",
     "start_time": "2024-07-07T12:54:14.547714Z"
    }
   },
   "cell_type": "code",
   "source": [
    "# we will get error because this is not a json object, it's a string\n",
    "response.content.gift"
   ],
   "id": "5955ea3aaf279f96",
   "outputs": [
    {
     "ename": "AttributeError",
     "evalue": "'str' object has no attribute 'gift'",
     "output_type": "error",
     "traceback": [
      "\u001B[0;31m---------------------------------------------------------------------------\u001B[0m",
      "\u001B[0;31mAttributeError\u001B[0m                            Traceback (most recent call last)",
      "Cell \u001B[0;32mIn[25], line 1\u001B[0m\n\u001B[0;32m----> 1\u001B[0m \u001B[43mresponse\u001B[49m\u001B[38;5;241;43m.\u001B[39;49m\u001B[43mcontent\u001B[49m\u001B[38;5;241;43m.\u001B[39;49m\u001B[43mgift\u001B[49m\n",
      "\u001B[0;31mAttributeError\u001B[0m: 'str' object has no attribute 'gift'"
     ]
    }
   ],
   "execution_count": 25
  },
  {
   "metadata": {
    "ExecuteTime": {
     "end_time": "2024-07-07T13:00:58.236045Z",
     "start_time": "2024-07-07T13:00:58.227691Z"
    }
   },
   "cell_type": "code",
   "source": [
    "from langchain.output_parsers import ResponseSchema\n",
    "from langchain.output_parsers import StructuredOutputParser"
   ],
   "id": "885a40365292c7f",
   "outputs": [],
   "execution_count": 26
  },
  {
   "metadata": {
    "ExecuteTime": {
     "end_time": "2024-07-07T13:02:56.639589Z",
     "start_time": "2024-07-07T13:02:56.636775Z"
    }
   },
   "cell_type": "code",
   "source": [
    "gift_schema = ResponseSchema(\n",
    "    name='gift',\n",
    "    description='Was the item purchased as a gift for someone else? \\n'\n",
    "                'Answer True if yes, False if not or unknown.',\n",
    ")\n",
    "delivery_days_schema = ResponseSchema(\n",
    "    name='delivery_days',\n",
    "    description='How many days did it take for the product to arrive? \\n'\n",
    "                'If this information is not found, output -1.',\n",
    ");\n",
    "price_value_schema = ResponseSchema(\n",
    "    name='price_value',\n",
    "    description='Extract any sentences about the value or price, \\n'\n",
    "                'and output them as a comma separated Python list.',\n",
    ");\n",
    "\n",
    "response_schema = [ gift_schema, delivery_days_schema, price_value_schema ]"
   ],
   "id": "86abc3f235dde0f7",
   "outputs": [],
   "execution_count": 27
  },
  {
   "metadata": {
    "ExecuteTime": {
     "end_time": "2024-07-07T13:03:42.673258Z",
     "start_time": "2024-07-07T13:03:42.669261Z"
    }
   },
   "cell_type": "code",
   "source": [
    "output_parser = StructuredOutputParser.from_response_schemas(response_schema)\n",
    "output_parser"
   ],
   "id": "4aa7e60ede1f5bfd",
   "outputs": [
    {
     "data": {
      "text/plain": [
       "StructuredOutputParser(response_schemas=[ResponseSchema(name='gift', description='Was the item purchased as a gift for someone else? \\nAnswer True if yes, False if not or unknown.', type='string'), ResponseSchema(name='delivery_days', description='How many days did it take for the product to arrive? \\nIf this information is not found, output -1.', type='string'), ResponseSchema(name='price_value', description='Extract any sentences about the value or price, \\nand output them as a comma separated Python list.', type='string')])"
      ]
     },
     "execution_count": 30,
     "metadata": {},
     "output_type": "execute_result"
    }
   ],
   "execution_count": 30
  },
  {
   "metadata": {
    "ExecuteTime": {
     "end_time": "2024-07-07T13:03:55.167709Z",
     "start_time": "2024-07-07T13:03:55.164756Z"
    }
   },
   "cell_type": "code",
   "source": [
    "format_instructions = output_parser.get_format_instructions()\n",
    "format_instructions"
   ],
   "id": "7d07fc896c690aa4",
   "outputs": [
    {
     "data": {
      "text/plain": [
       "'The output should be a markdown code snippet formatted in the following schema, including the leading and trailing \"```json\" and \"```\":\\n\\n```json\\n{\\n\\t\"gift\": string  // Was the item purchased as a gift for someone else? \\nAnswer True if yes, False if not or unknown.\\n\\t\"delivery_days\": string  // How many days did it take for the product to arrive? \\nIf this information is not found, output -1.\\n\\t\"price_value\": string  // Extract any sentences about the value or price, \\nand output them as a comma separated Python list.\\n}\\n```'"
      ]
     },
     "execution_count": 31,
     "metadata": {},
     "output_type": "execute_result"
    }
   ],
   "execution_count": 31
  },
  {
   "metadata": {
    "ExecuteTime": {
     "end_time": "2024-07-07T13:06:48.324163Z",
     "start_time": "2024-07-07T13:06:48.320966Z"
    }
   },
   "cell_type": "code",
   "source": [
    "review_template_2 = \"\"\"\\\n",
    "For the following text, extract the following information:\n",
    "\n",
    "gift: Was the item purchased as a gift for someone else? \\\n",
    "Answer True if yes, False if not or unknown.\n",
    "\n",
    "delivery_days: How many days did it take for the product \\\n",
    "to arrive? If this information is not found, output -1.\n",
    "\n",
    "price_value: Extract any sentences about the value or price,\\\n",
    "and output them as a comma separated Python list.\n",
    "\n",
    "text: {text}\n",
    "\n",
    "{format_instructions}\n",
    "\"\"\"\n",
    "\n",
    "prompt = ChatPromptTemplate.from_template(review_template_2)\n",
    "messages = prompt.format_messages(\n",
    "    text=customer_review, \n",
    "    format_instructions=format_instructions)\n",
    "messages"
   ],
   "id": "b5d2c1d3e7078c9b",
   "outputs": [
    {
     "data": {
      "text/plain": [
       "[HumanMessage(content='For the following text, extract the following information:\\n\\ngift: Was the item purchased as a gift for someone else? Answer True if yes, False if not or unknown.\\n\\ndelivery_days: How many days did it take for the product to arrive? If this information is not found, output -1.\\n\\nprice_value: Extract any sentences about the value or price,and output them as a comma separated Python list.\\n\\ntext: This leaf blower is pretty amazing.  It has four settings:candle blower, gentle breeze, windy city, and tornado. It arrived in two days, just in time for my wife\\'s anniversary present. I think my wife liked it so much she was speechless. So far I\\'ve been the only one using it, and I\\'ve been using it every other morning to clear the leaves on our lawn. It\\'s slightly more expensive than the other leaf blowers out there, but I think it\\'s worth it for the extra features.\\n\\n\\nThe output should be a markdown code snippet formatted in the following schema, including the leading and trailing \"```json\" and \"```\":\\n\\n```json\\n{\\n\\t\"gift\": string  // Was the item purchased as a gift for someone else? \\nAnswer True if yes, False if not or unknown.\\n\\t\"delivery_days\": string  // How many days did it take for the product to arrive? \\nIf this information is not found, output -1.\\n\\t\"price_value\": string  // Extract any sentences about the value or price, \\nand output them as a comma separated Python list.\\n}\\n```\\n')]"
      ]
     },
     "execution_count": 33,
     "metadata": {},
     "output_type": "execute_result"
    }
   ],
   "execution_count": 33
  },
  {
   "metadata": {
    "ExecuteTime": {
     "end_time": "2024-07-07T13:07:19.427439Z",
     "start_time": "2024-07-07T13:07:19.425550Z"
    }
   },
   "cell_type": "code",
   "source": "print(messages[0].content)",
   "id": "fb9a1eaacc96bfce",
   "outputs": [
    {
     "name": "stdout",
     "output_type": "stream",
     "text": [
      "For the following text, extract the following information:\n",
      "\n",
      "gift: Was the item purchased as a gift for someone else? Answer True if yes, False if not or unknown.\n",
      "\n",
      "delivery_days: How many days did it take for the product to arrive? If this information is not found, output -1.\n",
      "\n",
      "price_value: Extract any sentences about the value or price,and output them as a comma separated Python list.\n",
      "\n",
      "text: This leaf blower is pretty amazing.  It has four settings:candle blower, gentle breeze, windy city, and tornado. It arrived in two days, just in time for my wife's anniversary present. I think my wife liked it so much she was speechless. So far I've been the only one using it, and I've been using it every other morning to clear the leaves on our lawn. It's slightly more expensive than the other leaf blowers out there, but I think it's worth it for the extra features.\n",
      "\n",
      "\n",
      "The output should be a markdown code snippet formatted in the following schema, including the leading and trailing \"```json\" and \"```\":\n",
      "\n",
      "```json\n",
      "{\n",
      "\t\"gift\": string  // Was the item purchased as a gift for someone else? \n",
      "Answer True if yes, False if not or unknown.\n",
      "\t\"delivery_days\": string  // How many days did it take for the product to arrive? \n",
      "If this information is not found, output -1.\n",
      "\t\"price_value\": string  // Extract any sentences about the value or price, \n",
      "and output them as a comma separated Python list.\n",
      "}\n",
      "```\n",
      "\n"
     ]
    }
   ],
   "execution_count": 34
  },
  {
   "metadata": {
    "ExecuteTime": {
     "end_time": "2024-07-07T13:07:53.158902Z",
     "start_time": "2024-07-07T13:07:51.958174Z"
    }
   },
   "cell_type": "code",
   "source": [
    "response = chat.invoke(messages)\n",
    "response"
   ],
   "id": "efb80f9bd09f3b30",
   "outputs": [
    {
     "data": {
      "text/plain": [
       "AIMessage(content='```json\\n{\\n\\t\"gift\": true,\\n\\t\"delivery_days\": 2,\\n\\t\"price_value\": \"It\\'s slightly more expensive than the other leaf blowers out there, but I think it\\'s worth it for the extra features.\"\\n}\\n```', response_metadata={'token_usage': {'completion_tokens': 52, 'prompt_tokens': 324, 'total_tokens': 376}, 'model_name': 'gpt-3.5-turbo-0125', 'system_fingerprint': None, 'finish_reason': 'stop', 'logprobs': None}, id='run-3905d553-6327-42eb-85eb-404e604ac8e4-0', usage_metadata={'input_tokens': 324, 'output_tokens': 52, 'total_tokens': 376})"
      ]
     },
     "execution_count": 35,
     "metadata": {},
     "output_type": "execute_result"
    }
   ],
   "execution_count": 35
  },
  {
   "metadata": {
    "ExecuteTime": {
     "end_time": "2024-07-07T13:08:12.055576Z",
     "start_time": "2024-07-07T13:08:12.053541Z"
    }
   },
   "cell_type": "code",
   "source": "print(response.content)",
   "id": "5ce12ac3ff00c990",
   "outputs": [
    {
     "name": "stdout",
     "output_type": "stream",
     "text": [
      "```json\n",
      "{\n",
      "\t\"gift\": true,\n",
      "\t\"delivery_days\": 2,\n",
      "\t\"price_value\": \"It's slightly more expensive than the other leaf blowers out there, but I think it's worth it for the extra features.\"\n",
      "}\n",
      "```\n"
     ]
    }
   ],
   "execution_count": 36
  },
  {
   "metadata": {
    "ExecuteTime": {
     "end_time": "2024-07-07T13:08:53.327241Z",
     "start_time": "2024-07-07T13:08:53.322470Z"
    }
   },
   "cell_type": "code",
   "source": [
    "output_dict = output_parser.parse(response.content)\n",
    "output_dict"
   ],
   "id": "9dae0d520ec443aa",
   "outputs": [
    {
     "data": {
      "text/plain": [
       "{'gift': True,\n",
       " 'delivery_days': 2,\n",
       " 'price_value': \"It's slightly more expensive than the other leaf blowers out there, but I think it's worth it for the extra features.\"}"
      ]
     },
     "execution_count": 37,
     "metadata": {},
     "output_type": "execute_result"
    }
   ],
   "execution_count": 37
  },
  {
   "metadata": {
    "ExecuteTime": {
     "end_time": "2024-07-07T13:09:20.612524Z",
     "start_time": "2024-07-07T13:09:20.610128Z"
    }
   },
   "cell_type": "code",
   "source": "output_dict.get('gift')",
   "id": "4a7e665a9b1390f",
   "outputs": [
    {
     "data": {
      "text/plain": [
       "True"
      ]
     },
     "execution_count": 39,
     "metadata": {},
     "output_type": "execute_result"
    }
   ],
   "execution_count": 39
  },
  {
   "metadata": {
    "ExecuteTime": {
     "end_time": "2024-07-07T13:09:30.252620Z",
     "start_time": "2024-07-07T13:09:30.250201Z"
    }
   },
   "cell_type": "code",
   "source": "output_dict['gift']",
   "id": "9049511c5c5ba3a7",
   "outputs": [
    {
     "data": {
      "text/plain": [
       "True"
      ]
     },
     "execution_count": 40,
     "metadata": {},
     "output_type": "execute_result"
    }
   ],
   "execution_count": 40
  },
  {
   "metadata": {
    "ExecuteTime": {
     "end_time": "2024-07-07T13:09:33.101173Z",
     "start_time": "2024-07-07T13:09:33.098864Z"
    }
   },
   "cell_type": "code",
   "source": "output_dict['delivery_days']",
   "id": "c6b7dff2b3f7edd",
   "outputs": [
    {
     "data": {
      "text/plain": [
       "2"
      ]
     },
     "execution_count": 41,
     "metadata": {},
     "output_type": "execute_result"
    }
   ],
   "execution_count": 41
  },
  {
   "metadata": {},
   "cell_type": "code",
   "outputs": [],
   "execution_count": null,
   "source": "",
   "id": "a1eaad2e956d4c4"
  }
 ],
 "metadata": {
  "kernelspec": {
   "display_name": "Python 3",
   "language": "python",
   "name": "python3"
  },
  "language_info": {
   "codemirror_mode": {
    "name": "ipython",
    "version": 2
   },
   "file_extension": ".py",
   "mimetype": "text/x-python",
   "name": "python",
   "nbconvert_exporter": "python",
   "pygments_lexer": "ipython2",
   "version": "2.7.6"
  }
 },
 "nbformat": 4,
 "nbformat_minor": 5
}
